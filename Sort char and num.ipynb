{
 "cells": [
  {
   "cell_type": "markdown",
   "id": "f36b5322",
   "metadata": {},
   "source": [
    "# Write a python program to sort characters and numbers so that first alphabets and the numbers are printed."
   ]
  },
  {
   "cell_type": "code",
   "execution_count": 1,
   "id": "f468da28",
   "metadata": {},
   "outputs": [
    {
     "name": "stdout",
     "output_type": "stream",
     "text": [
      "Enter a string in the format(A1B2U3): T7S9G4\n",
      "G S T 4 7 9\n"
     ]
    }
   ],
   "source": [
    "#str1=\"T7S9G4\"\n",
    "\n",
    "str1=input(\"Enter a string in the format(A1B2U3): \")\n",
    "alphabets=[]\n",
    "numbers=[]\n",
    "\n",
    "for ch in str1:\n",
    "    if ch.isalpha():\n",
    "        alphabets.append(ch)\n",
    "    else:\n",
    "        numbers.append(ch)\n",
    "        \n",
    "#print(alphabets)\n",
    "#print(numbers)\n",
    "list=sorted(alphabets)+sorted(numbers)\n",
    "output=' '.join(list)\n",
    "print(output)\n"
   ]
  },
  {
   "cell_type": "code",
   "execution_count": null,
   "id": "af075452",
   "metadata": {},
   "outputs": [],
   "source": []
  }
 ],
 "metadata": {
  "kernelspec": {
   "display_name": "Python 3 (ipykernel)",
   "language": "python",
   "name": "python3"
  },
  "language_info": {
   "codemirror_mode": {
    "name": "ipython",
    "version": 3
   },
   "file_extension": ".py",
   "mimetype": "text/x-python",
   "name": "python",
   "nbconvert_exporter": "python",
   "pygments_lexer": "ipython3",
   "version": "3.9.13"
  }
 },
 "nbformat": 4,
 "nbformat_minor": 5
}
